{
  "nbformat": 4,
  "nbformat_minor": 0,
  "metadata": {
    "colab": {
      "provenance": []
    },
    "kernelspec": {
      "name": "python3",
      "display_name": "Python 3"
    },
    "language_info": {
      "name": "python"
    }
  },
  "cells": [
    {
      "cell_type": "markdown",
      "source": [
        "# Use Case\n",
        "The use case for this capstone project is to develop a predictive model for data science salaries in 2023. The primary goal is to provide accurate salary estimates for data science professionals based on various factors, including years of experience, educational qualifications, location, industry, and specific skills. By leveraging historical salary data and considering current market trends, the model aims to assist both employers and job seekers in making informed decisions during salary negotiations. </br>\n",
        "This predictive model will play a crucial role in addressing the dynamic nature of the job market, helping employers remain competitive in attracting top talent and empowering job seekers to navigate their career paths with realistic salary expectations in the ever-evolving landscape of data science in 2023."
      ],
      "metadata": {
        "id": "h7ejdH6WacQX"
      }
    },
    {
      "cell_type": "markdown",
      "source": [
        "# Data Set\n",
        "Data Science Job Salaries Dataset contains 11 columns, each are:\n",
        "\n",
        "1. work_year: The year the salary was paid.\n",
        "2. experience_level: The experience level in the job during the year\n",
        "3. employment_type: The type of employment for the role\n",
        "4. job_title: The role worked in during the year.\n",
        "5. salary: The total gross salary amount paid.\n",
        "6. salary_currency: The currency of the salary paid as an ISO 4217 currency code.\n",
        "7. salaryinusd: The salary in USD\n",
        "8. employee_residence: Employee's primary country of residence in during the work year as an ISO 3166 country code.\n",
        "9. remote_ratio: The overall amount of work done remotely\n",
        "10. company_location: The country of the employer's main office or contracting branch\n",
        "11. company_size: The median number of people that worked for the company during the year"
      ],
      "metadata": {
        "id": "yb1RGgNEciFw"
      }
    },
    {
      "cell_type": "markdown",
      "source": [
        "# Data Quality Assessment"
      ],
      "metadata": {
        "id": "8UXg5ZVldAiY"
      }
    },
    {
      "cell_type": "code",
      "execution_count": null,
      "metadata": {
        "id": "pjFue7fOQ6RY",
        "colab": {
          "base_uri": "https://localhost:8080/",
          "height": 330
        },
        "outputId": "6a73da9e-6e7d-44a2-f8f8-68a9bf3bcb06"
      },
      "outputs": [
        {
          "output_type": "execute_result",
          "data": {
            "text/plain": [
              "   work_year experience_level employment_type                 job_title  \\\n",
              "0       2023               SE              FT  Principal Data Scientist   \n",
              "1       2023               MI              CT               ML Engineer   \n",
              "2       2023               MI              CT               ML Engineer   \n",
              "3       2023               SE              FT            Data Scientist   \n",
              "4       2023               SE              FT            Data Scientist   \n",
              "\n",
              "   salary salary_currency  salary_in_usd employee_residence  remote_ratio  \\\n",
              "0   80000             EUR          85847                 ES           100   \n",
              "1   30000             USD          30000                 US           100   \n",
              "2   25500             USD          25500                 US           100   \n",
              "3  175000             USD         175000                 CA           100   \n",
              "4  120000             USD         120000                 CA           100   \n",
              "\n",
              "  company_location company_size  \n",
              "0               ES            L  \n",
              "1               US            S  \n",
              "2               US            S  \n",
              "3               CA            M  \n",
              "4               CA            M  "
            ],
            "text/html": [
              "\n",
              "  <div id=\"df-e48bc339-1777-4013-a1ce-3604be9353b2\" class=\"colab-df-container\">\n",
              "    <div>\n",
              "<style scoped>\n",
              "    .dataframe tbody tr th:only-of-type {\n",
              "        vertical-align: middle;\n",
              "    }\n",
              "\n",
              "    .dataframe tbody tr th {\n",
              "        vertical-align: top;\n",
              "    }\n",
              "\n",
              "    .dataframe thead th {\n",
              "        text-align: right;\n",
              "    }\n",
              "</style>\n",
              "<table border=\"1\" class=\"dataframe\">\n",
              "  <thead>\n",
              "    <tr style=\"text-align: right;\">\n",
              "      <th></th>\n",
              "      <th>work_year</th>\n",
              "      <th>experience_level</th>\n",
              "      <th>employment_type</th>\n",
              "      <th>job_title</th>\n",
              "      <th>salary</th>\n",
              "      <th>salary_currency</th>\n",
              "      <th>salary_in_usd</th>\n",
              "      <th>employee_residence</th>\n",
              "      <th>remote_ratio</th>\n",
              "      <th>company_location</th>\n",
              "      <th>company_size</th>\n",
              "    </tr>\n",
              "  </thead>\n",
              "  <tbody>\n",
              "    <tr>\n",
              "      <th>0</th>\n",
              "      <td>2023</td>\n",
              "      <td>SE</td>\n",
              "      <td>FT</td>\n",
              "      <td>Principal Data Scientist</td>\n",
              "      <td>80000</td>\n",
              "      <td>EUR</td>\n",
              "      <td>85847</td>\n",
              "      <td>ES</td>\n",
              "      <td>100</td>\n",
              "      <td>ES</td>\n",
              "      <td>L</td>\n",
              "    </tr>\n",
              "    <tr>\n",
              "      <th>1</th>\n",
              "      <td>2023</td>\n",
              "      <td>MI</td>\n",
              "      <td>CT</td>\n",
              "      <td>ML Engineer</td>\n",
              "      <td>30000</td>\n",
              "      <td>USD</td>\n",
              "      <td>30000</td>\n",
              "      <td>US</td>\n",
              "      <td>100</td>\n",
              "      <td>US</td>\n",
              "      <td>S</td>\n",
              "    </tr>\n",
              "    <tr>\n",
              "      <th>2</th>\n",
              "      <td>2023</td>\n",
              "      <td>MI</td>\n",
              "      <td>CT</td>\n",
              "      <td>ML Engineer</td>\n",
              "      <td>25500</td>\n",
              "      <td>USD</td>\n",
              "      <td>25500</td>\n",
              "      <td>US</td>\n",
              "      <td>100</td>\n",
              "      <td>US</td>\n",
              "      <td>S</td>\n",
              "    </tr>\n",
              "    <tr>\n",
              "      <th>3</th>\n",
              "      <td>2023</td>\n",
              "      <td>SE</td>\n",
              "      <td>FT</td>\n",
              "      <td>Data Scientist</td>\n",
              "      <td>175000</td>\n",
              "      <td>USD</td>\n",
              "      <td>175000</td>\n",
              "      <td>CA</td>\n",
              "      <td>100</td>\n",
              "      <td>CA</td>\n",
              "      <td>M</td>\n",
              "    </tr>\n",
              "    <tr>\n",
              "      <th>4</th>\n",
              "      <td>2023</td>\n",
              "      <td>SE</td>\n",
              "      <td>FT</td>\n",
              "      <td>Data Scientist</td>\n",
              "      <td>120000</td>\n",
              "      <td>USD</td>\n",
              "      <td>120000</td>\n",
              "      <td>CA</td>\n",
              "      <td>100</td>\n",
              "      <td>CA</td>\n",
              "      <td>M</td>\n",
              "    </tr>\n",
              "  </tbody>\n",
              "</table>\n",
              "</div>\n",
              "    <div class=\"colab-df-buttons\">\n",
              "\n",
              "  <div class=\"colab-df-container\">\n",
              "    <button class=\"colab-df-convert\" onclick=\"convertToInteractive('df-e48bc339-1777-4013-a1ce-3604be9353b2')\"\n",
              "            title=\"Convert this dataframe to an interactive table.\"\n",
              "            style=\"display:none;\">\n",
              "\n",
              "  <svg xmlns=\"http://www.w3.org/2000/svg\" height=\"24px\" viewBox=\"0 -960 960 960\">\n",
              "    <path d=\"M120-120v-720h720v720H120Zm60-500h600v-160H180v160Zm220 220h160v-160H400v160Zm0 220h160v-160H400v160ZM180-400h160v-160H180v160Zm440 0h160v-160H620v160ZM180-180h160v-160H180v160Zm440 0h160v-160H620v160Z\"/>\n",
              "  </svg>\n",
              "    </button>\n",
              "\n",
              "  <style>\n",
              "    .colab-df-container {\n",
              "      display:flex;\n",
              "      gap: 12px;\n",
              "    }\n",
              "\n",
              "    .colab-df-convert {\n",
              "      background-color: #E8F0FE;\n",
              "      border: none;\n",
              "      border-radius: 50%;\n",
              "      cursor: pointer;\n",
              "      display: none;\n",
              "      fill: #1967D2;\n",
              "      height: 32px;\n",
              "      padding: 0 0 0 0;\n",
              "      width: 32px;\n",
              "    }\n",
              "\n",
              "    .colab-df-convert:hover {\n",
              "      background-color: #E2EBFA;\n",
              "      box-shadow: 0px 1px 2px rgba(60, 64, 67, 0.3), 0px 1px 3px 1px rgba(60, 64, 67, 0.15);\n",
              "      fill: #174EA6;\n",
              "    }\n",
              "\n",
              "    .colab-df-buttons div {\n",
              "      margin-bottom: 4px;\n",
              "    }\n",
              "\n",
              "    [theme=dark] .colab-df-convert {\n",
              "      background-color: #3B4455;\n",
              "      fill: #D2E3FC;\n",
              "    }\n",
              "\n",
              "    [theme=dark] .colab-df-convert:hover {\n",
              "      background-color: #434B5C;\n",
              "      box-shadow: 0px 1px 3px 1px rgba(0, 0, 0, 0.15);\n",
              "      filter: drop-shadow(0px 1px 2px rgba(0, 0, 0, 0.3));\n",
              "      fill: #FFFFFF;\n",
              "    }\n",
              "  </style>\n",
              "\n",
              "    <script>\n",
              "      const buttonEl =\n",
              "        document.querySelector('#df-e48bc339-1777-4013-a1ce-3604be9353b2 button.colab-df-convert');\n",
              "      buttonEl.style.display =\n",
              "        google.colab.kernel.accessAllowed ? 'block' : 'none';\n",
              "\n",
              "      async function convertToInteractive(key) {\n",
              "        const element = document.querySelector('#df-e48bc339-1777-4013-a1ce-3604be9353b2');\n",
              "        const dataTable =\n",
              "          await google.colab.kernel.invokeFunction('convertToInteractive',\n",
              "                                                    [key], {});\n",
              "        if (!dataTable) return;\n",
              "\n",
              "        const docLinkHtml = 'Like what you see? Visit the ' +\n",
              "          '<a target=\"_blank\" href=https://colab.research.google.com/notebooks/data_table.ipynb>data table notebook</a>'\n",
              "          + ' to learn more about interactive tables.';\n",
              "        element.innerHTML = '';\n",
              "        dataTable['output_type'] = 'display_data';\n",
              "        await google.colab.output.renderOutput(dataTable, element);\n",
              "        const docLink = document.createElement('div');\n",
              "        docLink.innerHTML = docLinkHtml;\n",
              "        element.appendChild(docLink);\n",
              "      }\n",
              "    </script>\n",
              "  </div>\n",
              "\n",
              "\n",
              "<div id=\"df-75a516a0-a173-42e4-91b6-f3e83674cea2\">\n",
              "  <button class=\"colab-df-quickchart\" onclick=\"quickchart('df-75a516a0-a173-42e4-91b6-f3e83674cea2')\"\n",
              "            title=\"Suggest charts\"\n",
              "            style=\"display:none;\">\n",
              "\n",
              "<svg xmlns=\"http://www.w3.org/2000/svg\" height=\"24px\"viewBox=\"0 0 24 24\"\n",
              "     width=\"24px\">\n",
              "    <g>\n",
              "        <path d=\"M19 3H5c-1.1 0-2 .9-2 2v14c0 1.1.9 2 2 2h14c1.1 0 2-.9 2-2V5c0-1.1-.9-2-2-2zM9 17H7v-7h2v7zm4 0h-2V7h2v10zm4 0h-2v-4h2v4z\"/>\n",
              "    </g>\n",
              "</svg>\n",
              "  </button>\n",
              "\n",
              "<style>\n",
              "  .colab-df-quickchart {\n",
              "      --bg-color: #E8F0FE;\n",
              "      --fill-color: #1967D2;\n",
              "      --hover-bg-color: #E2EBFA;\n",
              "      --hover-fill-color: #174EA6;\n",
              "      --disabled-fill-color: #AAA;\n",
              "      --disabled-bg-color: #DDD;\n",
              "  }\n",
              "\n",
              "  [theme=dark] .colab-df-quickchart {\n",
              "      --bg-color: #3B4455;\n",
              "      --fill-color: #D2E3FC;\n",
              "      --hover-bg-color: #434B5C;\n",
              "      --hover-fill-color: #FFFFFF;\n",
              "      --disabled-bg-color: #3B4455;\n",
              "      --disabled-fill-color: #666;\n",
              "  }\n",
              "\n",
              "  .colab-df-quickchart {\n",
              "    background-color: var(--bg-color);\n",
              "    border: none;\n",
              "    border-radius: 50%;\n",
              "    cursor: pointer;\n",
              "    display: none;\n",
              "    fill: var(--fill-color);\n",
              "    height: 32px;\n",
              "    padding: 0;\n",
              "    width: 32px;\n",
              "  }\n",
              "\n",
              "  .colab-df-quickchart:hover {\n",
              "    background-color: var(--hover-bg-color);\n",
              "    box-shadow: 0 1px 2px rgba(60, 64, 67, 0.3), 0 1px 3px 1px rgba(60, 64, 67, 0.15);\n",
              "    fill: var(--button-hover-fill-color);\n",
              "  }\n",
              "\n",
              "  .colab-df-quickchart-complete:disabled,\n",
              "  .colab-df-quickchart-complete:disabled:hover {\n",
              "    background-color: var(--disabled-bg-color);\n",
              "    fill: var(--disabled-fill-color);\n",
              "    box-shadow: none;\n",
              "  }\n",
              "\n",
              "  .colab-df-spinner {\n",
              "    border: 2px solid var(--fill-color);\n",
              "    border-color: transparent;\n",
              "    border-bottom-color: var(--fill-color);\n",
              "    animation:\n",
              "      spin 1s steps(1) infinite;\n",
              "  }\n",
              "\n",
              "  @keyframes spin {\n",
              "    0% {\n",
              "      border-color: transparent;\n",
              "      border-bottom-color: var(--fill-color);\n",
              "      border-left-color: var(--fill-color);\n",
              "    }\n",
              "    20% {\n",
              "      border-color: transparent;\n",
              "      border-left-color: var(--fill-color);\n",
              "      border-top-color: var(--fill-color);\n",
              "    }\n",
              "    30% {\n",
              "      border-color: transparent;\n",
              "      border-left-color: var(--fill-color);\n",
              "      border-top-color: var(--fill-color);\n",
              "      border-right-color: var(--fill-color);\n",
              "    }\n",
              "    40% {\n",
              "      border-color: transparent;\n",
              "      border-right-color: var(--fill-color);\n",
              "      border-top-color: var(--fill-color);\n",
              "    }\n",
              "    60% {\n",
              "      border-color: transparent;\n",
              "      border-right-color: var(--fill-color);\n",
              "    }\n",
              "    80% {\n",
              "      border-color: transparent;\n",
              "      border-right-color: var(--fill-color);\n",
              "      border-bottom-color: var(--fill-color);\n",
              "    }\n",
              "    90% {\n",
              "      border-color: transparent;\n",
              "      border-bottom-color: var(--fill-color);\n",
              "    }\n",
              "  }\n",
              "</style>\n",
              "\n",
              "  <script>\n",
              "    async function quickchart(key) {\n",
              "      const quickchartButtonEl =\n",
              "        document.querySelector('#' + key + ' button');\n",
              "      quickchartButtonEl.disabled = true;  // To prevent multiple clicks.\n",
              "      quickchartButtonEl.classList.add('colab-df-spinner');\n",
              "      try {\n",
              "        const charts = await google.colab.kernel.invokeFunction(\n",
              "            'suggestCharts', [key], {});\n",
              "      } catch (error) {\n",
              "        console.error('Error during call to suggestCharts:', error);\n",
              "      }\n",
              "      quickchartButtonEl.classList.remove('colab-df-spinner');\n",
              "      quickchartButtonEl.classList.add('colab-df-quickchart-complete');\n",
              "    }\n",
              "    (() => {\n",
              "      let quickchartButtonEl =\n",
              "        document.querySelector('#df-75a516a0-a173-42e4-91b6-f3e83674cea2 button');\n",
              "      quickchartButtonEl.style.display =\n",
              "        google.colab.kernel.accessAllowed ? 'block' : 'none';\n",
              "    })();\n",
              "  </script>\n",
              "</div>\n",
              "\n",
              "    </div>\n",
              "  </div>\n"
            ]
          },
          "metadata": {},
          "execution_count": 2
        }
      ],
      "source": [
        "import pandas as pd\n",
        "\n",
        "df = pd.read_csv('ds_salaries.csv')\n",
        "\n",
        "df.head()"
      ]
    },
    {
      "cell_type": "code",
      "source": [
        "df.info()"
      ],
      "metadata": {
        "colab": {
          "base_uri": "https://localhost:8080/"
        },
        "id": "obmnylJLdKzF",
        "outputId": "d98f0dec-76f9-4973-ce55-b8389f3f68a6"
      },
      "execution_count": null,
      "outputs": [
        {
          "output_type": "stream",
          "name": "stdout",
          "text": [
            "<class 'pandas.core.frame.DataFrame'>\n",
            "RangeIndex: 3755 entries, 0 to 3754\n",
            "Data columns (total 11 columns):\n",
            " #   Column              Non-Null Count  Dtype \n",
            "---  ------              --------------  ----- \n",
            " 0   work_year           3755 non-null   int64 \n",
            " 1   experience_level    3755 non-null   object\n",
            " 2   employment_type     3755 non-null   object\n",
            " 3   job_title           3755 non-null   object\n",
            " 4   salary              3755 non-null   int64 \n",
            " 5   salary_currency     3755 non-null   object\n",
            " 6   salary_in_usd       3755 non-null   int64 \n",
            " 7   employee_residence  3755 non-null   object\n",
            " 8   remote_ratio        3755 non-null   int64 \n",
            " 9   company_location    3755 non-null   object\n",
            " 10  company_size        3755 non-null   object\n",
            "dtypes: int64(4), object(7)\n",
            "memory usage: 322.8+ KB\n"
          ]
        }
      ]
    },
    {
      "cell_type": "code",
      "source": [
        "df.describe()"
      ],
      "metadata": {
        "colab": {
          "base_uri": "https://localhost:8080/",
          "height": 300
        },
        "id": "pUe2sz6-dNzt",
        "outputId": "8aaf0a8f-1c7a-4a45-8fcb-6981559f1a1d"
      },
      "execution_count": null,
      "outputs": [
        {
          "output_type": "execute_result",
          "data": {
            "text/plain": [
              "         work_year        salary  salary_in_usd  remote_ratio\n",
              "count  3755.000000  3.755000e+03    3755.000000   3755.000000\n",
              "mean   2022.373635  1.906956e+05  137570.389880     46.271638\n",
              "std       0.691448  6.716765e+05   63055.625278     48.589050\n",
              "min    2020.000000  6.000000e+03    5132.000000      0.000000\n",
              "25%    2022.000000  1.000000e+05   95000.000000      0.000000\n",
              "50%    2022.000000  1.380000e+05  135000.000000      0.000000\n",
              "75%    2023.000000  1.800000e+05  175000.000000    100.000000\n",
              "max    2023.000000  3.040000e+07  450000.000000    100.000000"
            ],
            "text/html": [
              "\n",
              "  <div id=\"df-443d514e-c86b-4f65-b976-e3338b94fcfb\" class=\"colab-df-container\">\n",
              "    <div>\n",
              "<style scoped>\n",
              "    .dataframe tbody tr th:only-of-type {\n",
              "        vertical-align: middle;\n",
              "    }\n",
              "\n",
              "    .dataframe tbody tr th {\n",
              "        vertical-align: top;\n",
              "    }\n",
              "\n",
              "    .dataframe thead th {\n",
              "        text-align: right;\n",
              "    }\n",
              "</style>\n",
              "<table border=\"1\" class=\"dataframe\">\n",
              "  <thead>\n",
              "    <tr style=\"text-align: right;\">\n",
              "      <th></th>\n",
              "      <th>work_year</th>\n",
              "      <th>salary</th>\n",
              "      <th>salary_in_usd</th>\n",
              "      <th>remote_ratio</th>\n",
              "    </tr>\n",
              "  </thead>\n",
              "  <tbody>\n",
              "    <tr>\n",
              "      <th>count</th>\n",
              "      <td>3755.000000</td>\n",
              "      <td>3.755000e+03</td>\n",
              "      <td>3755.000000</td>\n",
              "      <td>3755.000000</td>\n",
              "    </tr>\n",
              "    <tr>\n",
              "      <th>mean</th>\n",
              "      <td>2022.373635</td>\n",
              "      <td>1.906956e+05</td>\n",
              "      <td>137570.389880</td>\n",
              "      <td>46.271638</td>\n",
              "    </tr>\n",
              "    <tr>\n",
              "      <th>std</th>\n",
              "      <td>0.691448</td>\n",
              "      <td>6.716765e+05</td>\n",
              "      <td>63055.625278</td>\n",
              "      <td>48.589050</td>\n",
              "    </tr>\n",
              "    <tr>\n",
              "      <th>min</th>\n",
              "      <td>2020.000000</td>\n",
              "      <td>6.000000e+03</td>\n",
              "      <td>5132.000000</td>\n",
              "      <td>0.000000</td>\n",
              "    </tr>\n",
              "    <tr>\n",
              "      <th>25%</th>\n",
              "      <td>2022.000000</td>\n",
              "      <td>1.000000e+05</td>\n",
              "      <td>95000.000000</td>\n",
              "      <td>0.000000</td>\n",
              "    </tr>\n",
              "    <tr>\n",
              "      <th>50%</th>\n",
              "      <td>2022.000000</td>\n",
              "      <td>1.380000e+05</td>\n",
              "      <td>135000.000000</td>\n",
              "      <td>0.000000</td>\n",
              "    </tr>\n",
              "    <tr>\n",
              "      <th>75%</th>\n",
              "      <td>2023.000000</td>\n",
              "      <td>1.800000e+05</td>\n",
              "      <td>175000.000000</td>\n",
              "      <td>100.000000</td>\n",
              "    </tr>\n",
              "    <tr>\n",
              "      <th>max</th>\n",
              "      <td>2023.000000</td>\n",
              "      <td>3.040000e+07</td>\n",
              "      <td>450000.000000</td>\n",
              "      <td>100.000000</td>\n",
              "    </tr>\n",
              "  </tbody>\n",
              "</table>\n",
              "</div>\n",
              "    <div class=\"colab-df-buttons\">\n",
              "\n",
              "  <div class=\"colab-df-container\">\n",
              "    <button class=\"colab-df-convert\" onclick=\"convertToInteractive('df-443d514e-c86b-4f65-b976-e3338b94fcfb')\"\n",
              "            title=\"Convert this dataframe to an interactive table.\"\n",
              "            style=\"display:none;\">\n",
              "\n",
              "  <svg xmlns=\"http://www.w3.org/2000/svg\" height=\"24px\" viewBox=\"0 -960 960 960\">\n",
              "    <path d=\"M120-120v-720h720v720H120Zm60-500h600v-160H180v160Zm220 220h160v-160H400v160Zm0 220h160v-160H400v160ZM180-400h160v-160H180v160Zm440 0h160v-160H620v160ZM180-180h160v-160H180v160Zm440 0h160v-160H620v160Z\"/>\n",
              "  </svg>\n",
              "    </button>\n",
              "\n",
              "  <style>\n",
              "    .colab-df-container {\n",
              "      display:flex;\n",
              "      gap: 12px;\n",
              "    }\n",
              "\n",
              "    .colab-df-convert {\n",
              "      background-color: #E8F0FE;\n",
              "      border: none;\n",
              "      border-radius: 50%;\n",
              "      cursor: pointer;\n",
              "      display: none;\n",
              "      fill: #1967D2;\n",
              "      height: 32px;\n",
              "      padding: 0 0 0 0;\n",
              "      width: 32px;\n",
              "    }\n",
              "\n",
              "    .colab-df-convert:hover {\n",
              "      background-color: #E2EBFA;\n",
              "      box-shadow: 0px 1px 2px rgba(60, 64, 67, 0.3), 0px 1px 3px 1px rgba(60, 64, 67, 0.15);\n",
              "      fill: #174EA6;\n",
              "    }\n",
              "\n",
              "    .colab-df-buttons div {\n",
              "      margin-bottom: 4px;\n",
              "    }\n",
              "\n",
              "    [theme=dark] .colab-df-convert {\n",
              "      background-color: #3B4455;\n",
              "      fill: #D2E3FC;\n",
              "    }\n",
              "\n",
              "    [theme=dark] .colab-df-convert:hover {\n",
              "      background-color: #434B5C;\n",
              "      box-shadow: 0px 1px 3px 1px rgba(0, 0, 0, 0.15);\n",
              "      filter: drop-shadow(0px 1px 2px rgba(0, 0, 0, 0.3));\n",
              "      fill: #FFFFFF;\n",
              "    }\n",
              "  </style>\n",
              "\n",
              "    <script>\n",
              "      const buttonEl =\n",
              "        document.querySelector('#df-443d514e-c86b-4f65-b976-e3338b94fcfb button.colab-df-convert');\n",
              "      buttonEl.style.display =\n",
              "        google.colab.kernel.accessAllowed ? 'block' : 'none';\n",
              "\n",
              "      async function convertToInteractive(key) {\n",
              "        const element = document.querySelector('#df-443d514e-c86b-4f65-b976-e3338b94fcfb');\n",
              "        const dataTable =\n",
              "          await google.colab.kernel.invokeFunction('convertToInteractive',\n",
              "                                                    [key], {});\n",
              "        if (!dataTable) return;\n",
              "\n",
              "        const docLinkHtml = 'Like what you see? Visit the ' +\n",
              "          '<a target=\"_blank\" href=https://colab.research.google.com/notebooks/data_table.ipynb>data table notebook</a>'\n",
              "          + ' to learn more about interactive tables.';\n",
              "        element.innerHTML = '';\n",
              "        dataTable['output_type'] = 'display_data';\n",
              "        await google.colab.output.renderOutput(dataTable, element);\n",
              "        const docLink = document.createElement('div');\n",
              "        docLink.innerHTML = docLinkHtml;\n",
              "        element.appendChild(docLink);\n",
              "      }\n",
              "    </script>\n",
              "  </div>\n",
              "\n",
              "\n",
              "<div id=\"df-a8e97c96-1370-4199-b373-57eeba97b9ff\">\n",
              "  <button class=\"colab-df-quickchart\" onclick=\"quickchart('df-a8e97c96-1370-4199-b373-57eeba97b9ff')\"\n",
              "            title=\"Suggest charts\"\n",
              "            style=\"display:none;\">\n",
              "\n",
              "<svg xmlns=\"http://www.w3.org/2000/svg\" height=\"24px\"viewBox=\"0 0 24 24\"\n",
              "     width=\"24px\">\n",
              "    <g>\n",
              "        <path d=\"M19 3H5c-1.1 0-2 .9-2 2v14c0 1.1.9 2 2 2h14c1.1 0 2-.9 2-2V5c0-1.1-.9-2-2-2zM9 17H7v-7h2v7zm4 0h-2V7h2v10zm4 0h-2v-4h2v4z\"/>\n",
              "    </g>\n",
              "</svg>\n",
              "  </button>\n",
              "\n",
              "<style>\n",
              "  .colab-df-quickchart {\n",
              "      --bg-color: #E8F0FE;\n",
              "      --fill-color: #1967D2;\n",
              "      --hover-bg-color: #E2EBFA;\n",
              "      --hover-fill-color: #174EA6;\n",
              "      --disabled-fill-color: #AAA;\n",
              "      --disabled-bg-color: #DDD;\n",
              "  }\n",
              "\n",
              "  [theme=dark] .colab-df-quickchart {\n",
              "      --bg-color: #3B4455;\n",
              "      --fill-color: #D2E3FC;\n",
              "      --hover-bg-color: #434B5C;\n",
              "      --hover-fill-color: #FFFFFF;\n",
              "      --disabled-bg-color: #3B4455;\n",
              "      --disabled-fill-color: #666;\n",
              "  }\n",
              "\n",
              "  .colab-df-quickchart {\n",
              "    background-color: var(--bg-color);\n",
              "    border: none;\n",
              "    border-radius: 50%;\n",
              "    cursor: pointer;\n",
              "    display: none;\n",
              "    fill: var(--fill-color);\n",
              "    height: 32px;\n",
              "    padding: 0;\n",
              "    width: 32px;\n",
              "  }\n",
              "\n",
              "  .colab-df-quickchart:hover {\n",
              "    background-color: var(--hover-bg-color);\n",
              "    box-shadow: 0 1px 2px rgba(60, 64, 67, 0.3), 0 1px 3px 1px rgba(60, 64, 67, 0.15);\n",
              "    fill: var(--button-hover-fill-color);\n",
              "  }\n",
              "\n",
              "  .colab-df-quickchart-complete:disabled,\n",
              "  .colab-df-quickchart-complete:disabled:hover {\n",
              "    background-color: var(--disabled-bg-color);\n",
              "    fill: var(--disabled-fill-color);\n",
              "    box-shadow: none;\n",
              "  }\n",
              "\n",
              "  .colab-df-spinner {\n",
              "    border: 2px solid var(--fill-color);\n",
              "    border-color: transparent;\n",
              "    border-bottom-color: var(--fill-color);\n",
              "    animation:\n",
              "      spin 1s steps(1) infinite;\n",
              "  }\n",
              "\n",
              "  @keyframes spin {\n",
              "    0% {\n",
              "      border-color: transparent;\n",
              "      border-bottom-color: var(--fill-color);\n",
              "      border-left-color: var(--fill-color);\n",
              "    }\n",
              "    20% {\n",
              "      border-color: transparent;\n",
              "      border-left-color: var(--fill-color);\n",
              "      border-top-color: var(--fill-color);\n",
              "    }\n",
              "    30% {\n",
              "      border-color: transparent;\n",
              "      border-left-color: var(--fill-color);\n",
              "      border-top-color: var(--fill-color);\n",
              "      border-right-color: var(--fill-color);\n",
              "    }\n",
              "    40% {\n",
              "      border-color: transparent;\n",
              "      border-right-color: var(--fill-color);\n",
              "      border-top-color: var(--fill-color);\n",
              "    }\n",
              "    60% {\n",
              "      border-color: transparent;\n",
              "      border-right-color: var(--fill-color);\n",
              "    }\n",
              "    80% {\n",
              "      border-color: transparent;\n",
              "      border-right-color: var(--fill-color);\n",
              "      border-bottom-color: var(--fill-color);\n",
              "    }\n",
              "    90% {\n",
              "      border-color: transparent;\n",
              "      border-bottom-color: var(--fill-color);\n",
              "    }\n",
              "  }\n",
              "</style>\n",
              "\n",
              "  <script>\n",
              "    async function quickchart(key) {\n",
              "      const quickchartButtonEl =\n",
              "        document.querySelector('#' + key + ' button');\n",
              "      quickchartButtonEl.disabled = true;  // To prevent multiple clicks.\n",
              "      quickchartButtonEl.classList.add('colab-df-spinner');\n",
              "      try {\n",
              "        const charts = await google.colab.kernel.invokeFunction(\n",
              "            'suggestCharts', [key], {});\n",
              "      } catch (error) {\n",
              "        console.error('Error during call to suggestCharts:', error);\n",
              "      }\n",
              "      quickchartButtonEl.classList.remove('colab-df-spinner');\n",
              "      quickchartButtonEl.classList.add('colab-df-quickchart-complete');\n",
              "    }\n",
              "    (() => {\n",
              "      let quickchartButtonEl =\n",
              "        document.querySelector('#df-a8e97c96-1370-4199-b373-57eeba97b9ff button');\n",
              "      quickchartButtonEl.style.display =\n",
              "        google.colab.kernel.accessAllowed ? 'block' : 'none';\n",
              "    })();\n",
              "  </script>\n",
              "</div>\n",
              "\n",
              "    </div>\n",
              "  </div>\n"
            ]
          },
          "metadata": {},
          "execution_count": 4
        }
      ]
    },
    {
      "cell_type": "markdown",
      "source": [
        "\n",
        "# Data Exploration"
      ],
      "metadata": {
        "id": "PLgwdBTAdTyO"
      }
    },
    {
      "cell_type": "code",
      "source": [
        "import matplotlib.pyplot as plt\n",
        "import seaborn as sns\n",
        "\n",
        "sns.heatmap(df.corr())"
      ],
      "metadata": {
        "colab": {
          "base_uri": "https://localhost:8080/",
          "height": 507
        },
        "id": "5E3pO6QJdWtm",
        "outputId": "c0b4cd41-1bf3-4422-8326-55b44245e752"
      },
      "execution_count": null,
      "outputs": [
        {
          "output_type": "stream",
          "name": "stderr",
          "text": [
            "<ipython-input-5-60ef5627de8f>:4: FutureWarning: The default value of numeric_only in DataFrame.corr is deprecated. In a future version, it will default to False. Select only valid columns or specify the value of numeric_only to silence this warning.\n",
            "  sns.heatmap(df.corr())\n"
          ]
        },
        {
          "output_type": "execute_result",
          "data": {
            "text/plain": [
              "<Axes: >"
            ]
          },
          "metadata": {},
          "execution_count": 5
        },
        {
          "output_type": "display_data",
          "data": {
            "text/plain": [
              "<Figure size 640x480 with 2 Axes>"
            ],
            "image/png": "[encoded data removed]"
          },
          "metadata": {}
        }
      ]
    },
    {
      "cell_type": "markdown",
      "source": [
        "# Data Visualization"
      ],
      "metadata": {
        "id": "h0-TZmy-eVSn"
      }
    },
    {
      "cell_type": "code",
      "source": [
        "sns.histplot(data=df['experience_level'])"
      ],
      "metadata": {
        "colab": {
          "base_uri": "https://localhost:8080/",
          "height": 467
        },
        "id": "z8tphXjwfb9_",
        "outputId": "bd2a0937-e16f-40b7-ce84-082f0868fd27"
      },
      "execution_count": null,
      "outputs": [
        {
          "output_type": "execute_result",
          "data": {
            "text/plain": [
              "<Axes: xlabel='experience_level', ylabel='Count'>"
            ]
          },
          "metadata": {},
          "execution_count": 14
        },
        {
          "output_type": "display_data",
          "data": {
            "text/plain": [
              "<Figure size 640x480 with 1 Axes>"
            ],
            "image/png": "[encoded data removed]"
          },
          "metadata": {}
        }
      ]
    },
    {
      "cell_type": "code",
      "source": [
        "sns.histplot(data=df['salary_in_usd'], bins=20, kde=True)"
      ],
      "metadata": {
        "colab": {
          "base_uri": "https://localhost:8080/",
          "height": 467
        },
        "id": "V-8j8AkehVbe",
        "outputId": "b3669647-8d7b-460d-8462-223765fc5563"
      },
      "execution_count": null,
      "outputs": [
        {
          "output_type": "execute_result",
          "data": {
            "text/plain": [
              "<Axes: xlabel='salary_in_usd', ylabel='Count'>"
            ]
          },
          "metadata": {},
          "execution_count": 13
        },
        {
          "output_type": "display_data",
          "data": {
            "text/plain": [
              "<Figure size 640x480 with 1 Axes>"
            ],
            "image/png": "[encoded data removed]"
          },
          "metadata": {}
        }
      ]
    },
    {
      "cell_type": "markdown",
      "source": [
        "# Feature Engineering"
      ],
      "metadata": {
        "id": "ibY_iPswimm3"
      }
    },
    {
      "cell_type": "code",
      "source": [
        "df.isna().sum()"
      ],
      "metadata": {
        "colab": {
          "base_uri": "https://localhost:8080/"
        },
        "id": "alq-597UipTx",
        "outputId": "19322100-5703-4e1e-e605-280c1cfae8c3"
      },
      "execution_count": null,
      "outputs": [
        {
          "output_type": "execute_result",
          "data": {
            "text/plain": [
              "work_year             0\n",
              "experience_level      0\n",
              "employment_type       0\n",
              "job_title             0\n",
              "salary                0\n",
              "salary_currency       0\n",
              "salary_in_usd         0\n",
              "employee_residence    0\n",
              "remote_ratio          0\n",
              "company_location      0\n",
              "company_size          0\n",
              "dtype: int64"
            ]
          },
          "metadata": {},
          "execution_count": 15
        }
      ]
    },
    {
      "cell_type": "markdown",
      "source": [
        "# Model Training"
      ],
      "metadata": {
        "id": "HCRStHyWjk22"
      }
    },
    {
      "cell_type": "code",
      "source": [
        "X = df.drop(['salary', 'salary_currency', 'salary_in_usd'], axis=1)\n",
        "y = df['salary_in_usd']"
      ],
      "metadata": {
        "id": "lr-NLyS4jpGh"
      },
      "execution_count": null,
      "outputs": []
    },
    {
      "cell_type": "code",
      "source": [
        "from sklearn.preprocessing import OneHotEncoder\n",
        "\n",
        "enc = OneHotEncoder()\n",
        "X = enc.fit_transform(X)"
      ],
      "metadata": {
        "id": "1LVQ5_FcmmQX"
      },
      "execution_count": null,
      "outputs": []
    },
    {
      "cell_type": "code",
      "source": [
        "train_size = round(len(y) * 0.8)"
      ],
      "metadata": {
        "id": "92vZvvzwladm"
      },
      "execution_count": null,
      "outputs": []
    },
    {
      "cell_type": "code",
      "source": [
        "X_train = X[:train_size]\n",
        "X_test = X[train_size:]\n",
        "y_train = y[:train_size]\n",
        "y_test = y[train_size:]"
      ],
      "metadata": {
        "id": "AnrsfPGxlMx2"
      },
      "execution_count": null,
      "outputs": []
    },
    {
      "cell_type": "code",
      "source": [
        "X_train.shape"
      ],
      "metadata": {
        "colab": {
          "base_uri": "https://localhost:8080/"
        },
        "id": "RqVWSDfMoQpB",
        "outputId": "1d15b430-42d1-48ba-b778-f75aa7223fd3"
      },
      "execution_count": null,
      "outputs": [
        {
          "output_type": "execute_result",
          "data": {
            "text/plain": [
              "(3004, 261)"
            ]
          },
          "metadata": {},
          "execution_count": 56
        }
      ]
    },
    {
      "cell_type": "markdown",
      "source": [
        "### Random Forest"
      ],
      "metadata": {
        "id": "b2NcCu-nowEy"
      }
    },
    {
      "cell_type": "code",
      "source": [
        "from sklearn.ensemble import RandomForestRegressor\n",
        "\n",
        "rf_reg = RandomForestRegressor()\n",
        "rf_reg.fit(X_train, y_train)"
      ],
      "metadata": {
        "colab": {
          "base_uri": "https://localhost:8080/",
          "height": 75
        },
        "id": "JDoL9szil823",
        "outputId": "1079afcb-1a1a-4b09-814b-918544d5fa33"
      },
      "execution_count": null,
      "outputs": [
        {
          "output_type": "execute_result",
          "data": {
            "text/plain": [
              "RandomForestRegressor()"
            ],
            "text/html": [
              "<style>#sk-container-id-2 {color: black;background-color: white;}#sk-container-id-2 pre{padding: 0;}#sk-container-id-2 div.sk-toggleable {background-color: white;}#sk-container-id-2 label.sk-toggleable__label {cursor: pointer;display: block;width: 100%;margin-bottom: 0;padding: 0.3em;box-sizing: border-box;text-align: center;}#sk-container-id-2 label.sk-toggleable__label-arrow:before {content: \"▸\";float: left;margin-right: 0.25em;color: #696969;}#sk-container-id-2 label.sk-toggleable__label-arrow:hover:before {color: black;}#sk-container-id-2 div.sk-estimator:hover label.sk-toggleable__label-arrow:before {color: black;}#sk-container-id-2 div.sk-toggleable__content {max-height: 0;max-width: 0;overflow: hidden;text-align: left;background-color: #f0f8ff;}#sk-container-id-2 div.sk-toggleable__content pre {margin: 0.2em;color: black;border-radius: 0.25em;background-color: #f0f8ff;}#sk-container-id-2 input.sk-toggleable__control:checked~div.sk-toggleable__content {max-height: 200px;max-width: 100%;overflow: auto;}#sk-container-id-2 input.sk-toggleable__control:checked~label.sk-toggleable__label-arrow:before {content: \"▾\";}#sk-container-id-2 div.sk-estimator input.sk-toggleable__control:checked~label.sk-toggleable__label {background-color: #d4ebff;}#sk-container-id-2 div.sk-label input.sk-toggleable__control:checked~label.sk-toggleable__label {background-color: #d4ebff;}#sk-container-id-2 input.sk-hidden--visually {border: 0;clip: rect(1px 1px 1px 1px);clip: rect(1px, 1px, 1px, 1px);height: 1px;margin: -1px;overflow: hidden;padding: 0;position: absolute;width: 1px;}#sk-container-id-2 div.sk-estimator {font-family: monospace;background-color: #f0f8ff;border: 1px dotted black;border-radius: 0.25em;box-sizing: border-box;margin-bottom: 0.5em;}#sk-container-id-2 div.sk-estimator:hover {background-color: #d4ebff;}#sk-container-id-2 div.sk-parallel-item::after {content: \"\";width: 100%;border-bottom: 1px solid gray;flex-grow: 1;}#sk-container-id-2 div.sk-label:hover label.sk-toggleable__label {background-color: #d4ebff;}#sk-container-id-2 div.sk-serial::before {content: \"\";position: absolute;border-left: 1px solid gray;box-sizing: border-box;top: 0;bottom: 0;left: 50%;z-index: 0;}#sk-container-id-2 div.sk-serial {display: flex;flex-direction: column;align-items: center;background-color: white;padding-right: 0.2em;padding-left: 0.2em;position: relative;}#sk-container-id-2 div.sk-item {position: relative;z-index: 1;}#sk-container-id-2 div.sk-parallel {display: flex;align-items: stretch;justify-content: center;background-color: white;position: relative;}#sk-container-id-2 div.sk-item::before, #sk-container-id-2 div.sk-parallel-item::before {content: \"\";position: absolute;border-left: 1px solid gray;box-sizing: border-box;top: 0;bottom: 0;left: 50%;z-index: -1;}#sk-container-id-2 div.sk-parallel-item {display: flex;flex-direction: column;z-index: 1;position: relative;background-color: white;}#sk-container-id-2 div.sk-parallel-item:first-child::after {align-self: flex-end;width: 50%;}#sk-container-id-2 div.sk-parallel-item:last-child::after {align-self: flex-start;width: 50%;}#sk-container-id-2 div.sk-parallel-item:only-child::after {width: 0;}#sk-container-id-2 div.sk-dashed-wrapped {border: 1px dashed gray;margin: 0 0.4em 0.5em 0.4em;box-sizing: border-box;padding-bottom: 0.4em;background-color: white;}#sk-container-id-2 div.sk-label label {font-family: monospace;font-weight: bold;display: inline-block;line-height: 1.2em;}#sk-container-id-2 div.sk-label-container {text-align: center;}#sk-container-id-2 div.sk-container {/* jupyter's `normalize.less` sets `[hidden] { display: none; }` but bootstrap.min.css set `[hidden] { display: none !important; }` so we also need the `!important` here to be able to override the default hidden behavior on the sphinx rendered scikit-learn.org. See: https://github.com/scikit-learn/scikit-learn/issues/21755 */display: inline-block !important;position: relative;}#sk-container-id-2 div.sk-text-repr-fallback {display: none;}</style><div id=\"sk-container-id-2\" class=\"sk-top-container\"><div class=\"sk-text-repr-fallback\"><pre>RandomForestRegressor()</pre><b>In a Jupyter environment, please rerun this cell to show the HTML representation or trust the notebook. <br />On GitHub, the HTML representation is unable to render, please try loading this page with nbviewer.org.</b></div><div class=\"sk-container\" hidden><div class=\"sk-item\"><div class=\"sk-estimator sk-toggleable\"><input class=\"sk-toggleable__control sk-hidden--visually\" id=\"sk-estimator-id-2\" type=\"checkbox\" checked><label for=\"sk-estimator-id-2\" class=\"sk-toggleable__label sk-toggleable__label-arrow\">RandomForestRegressor</label><div class=\"sk-toggleable__content\"><pre>RandomForestRegressor()</pre></div></div></div></div></div>"
            ]
          },
          "metadata": {},
          "execution_count": 57
        }
      ]
    },
    {
      "cell_type": "markdown",
      "source": [
        "### Feedforward Neural Network"
      ],
      "metadata": {
        "id": "8w8-jhsfo3q3"
      }
    },
    {
      "cell_type": "code",
      "source": [
        "import tensorflow as tf\n",
        "from tensorflow.keras import layers, models\n",
        "\n",
        "# Define the model\n",
        "fnn_reg = models.Sequential()\n",
        "fnn_reg.add(layers.Dense(128, activation='relu', input_shape=(261,)))\n",
        "fnn_reg.add(layers.Dense(64, activation='relu'))\n",
        "fnn_reg.add(layers.Dense(1))\n",
        "\n",
        "# Compile the model\n",
        "fnn_reg.compile(optimizer='adam', loss='mean_squared_error')\n",
        "\n",
        "# Print the model summary\n",
        "fnn_reg.summary()\n",
        "\n",
        "# Train the model\n",
        "fnn_reg.fit(X_train.todense(), y_train, epochs=50, batch_size=32, validation_split=0.2)\n"
      ],
      "metadata": {
        "colab": {
          "base_uri": "https://localhost:8080/"
        },
        "id": "vfJkbKEDovM_",
        "outputId": "3492296a-d8ce-40b8-8cb9-f605ffee612b"
      },
      "execution_count": null,
      "outputs": [
        {
          "output_type": "stream",
          "name": "stdout",
          "text": [
            "Model: \"sequential_2\"\n",
            "_________________________________________________________________\n",
            " Layer (type)                Output Shape              Param #   \n",
            "=================================================================\n",
            " dense_6 (Dense)             (None, 128)               33536     \n",
            "                                                                 \n",
            " dense_7 (Dense)             (None, 64)                8256      \n",
            "                                                                 \n",
            " dense_8 (Dense)             (None, 1)                 65        \n",
            "                                                                 \n",
            "=================================================================\n",
            "Total params: 41857 (163.50 KB)\n",
            "Trainable params: 41857 (163.50 KB)\n",
            "Non-trainable params: 0 (0.00 Byte)\n",
            "_________________________________________________________________\n",
            "Epoch 1/50\n",
            "76/76 [==============================] - 2s 13ms/step - loss: 24826705920.0000 - val_loss: 21850275840.0000\n",
            "Epoch 2/50\n",
            "76/76 [==============================] - 0s 6ms/step - loss: 24754075648.0000 - val_loss: 21696802816.0000\n",
            "Epoch 3/50\n",
            "76/76 [==============================] - 0s 6ms/step - loss: 24427384832.0000 - val_loss: 21199243264.0000\n",
            "Epoch 4/50\n",
            "76/76 [==============================] - 0s 5ms/step - loss: 23626551296.0000 - val_loss: 20170399744.0000\n",
            "Epoch 5/50\n",
            "76/76 [==============================] - 0s 5ms/step - loss: 22178729984.0000 - val_loss: 18498435072.0000\n",
            "Epoch 6/50\n",
            "76/76 [==============================] - 0s 5ms/step - loss: 20022525952.0000 - val_loss: 16186808320.0000\n",
            "Epoch 7/50\n",
            "76/76 [==============================] - 0s 5ms/step - loss: 17243676672.0000 - val_loss: 13404980224.0000\n",
            "Epoch 8/50\n",
            "76/76 [==============================] - 0s 5ms/step - loss: 14094504960.0000 - val_loss: 10470189056.0000\n",
            "Epoch 9/50\n",
            "76/76 [==============================] - 0s 3ms/step - loss: 10919820288.0000 - val_loss: 7724874240.0000\n",
            "Epoch 10/50\n",
            "76/76 [==============================] - 0s 3ms/step - loss: 8098512384.0000 - val_loss: 5491582976.0000\n",
            "Epoch 11/50\n",
            "76/76 [==============================] - 0s 3ms/step - loss: 5944745984.0000 - val_loss: 3976068864.0000\n",
            "Epoch 12/50\n",
            "76/76 [==============================] - 0s 3ms/step - loss: 4526840832.0000 - val_loss: 3112989696.0000\n",
            "Epoch 13/50\n",
            "76/76 [==============================] - 0s 3ms/step - loss: 3754617344.0000 - val_loss: 2718032896.0000\n",
            "Epoch 14/50\n",
            "76/76 [==============================] - 0s 3ms/step - loss: 3413713920.0000 - val_loss: 2580038912.0000\n",
            "Epoch 15/50\n",
            "76/76 [==============================] - 0s 3ms/step - loss: 3260571648.0000 - val_loss: 2521342208.0000\n",
            "Epoch 16/50\n",
            "76/76 [==============================] - 0s 3ms/step - loss: 3180155904.0000 - val_loss: 2485870592.0000\n",
            "Epoch 17/50\n",
            "76/76 [==============================] - 0s 3ms/step - loss: 3129121024.0000 - val_loss: 2455315968.0000\n",
            "Epoch 18/50\n",
            "76/76 [==============================] - 0s 3ms/step - loss: 3087866624.0000 - val_loss: 2428056832.0000\n",
            "Epoch 19/50\n",
            "76/76 [==============================] - 0s 3ms/step - loss: 3052252416.0000 - val_loss: 2400293376.0000\n",
            "Epoch 20/50\n",
            "76/76 [==============================] - 0s 3ms/step - loss: 3020372736.0000 - val_loss: 2373442048.0000\n",
            "Epoch 21/50\n",
            "76/76 [==============================] - 0s 3ms/step - loss: 2989240320.0000 - val_loss: 2348602880.0000\n",
            "Epoch 22/50\n",
            "76/76 [==============================] - 0s 3ms/step - loss: 2960571648.0000 - val_loss: 2328054528.0000\n",
            "Epoch 23/50\n",
            "76/76 [==============================] - 0s 3ms/step - loss: 2933986048.0000 - val_loss: 2305102848.0000\n",
            "Epoch 24/50\n",
            "76/76 [==============================] - 0s 3ms/step - loss: 2908854528.0000 - val_loss: 2282222080.0000\n",
            "Epoch 25/50\n",
            "76/76 [==============================] - 0s 3ms/step - loss: 2884535040.0000 - val_loss: 2266684672.0000\n",
            "Epoch 26/50\n",
            "76/76 [==============================] - 0s 3ms/step - loss: 2861759488.0000 - val_loss: 2244800256.0000\n",
            "Epoch 27/50\n",
            "76/76 [==============================] - 0s 3ms/step - loss: 2840987136.0000 - val_loss: 2227170304.0000\n",
            "Epoch 28/50\n",
            "76/76 [==============================] - 0s 3ms/step - loss: 2820205824.0000 - val_loss: 2210211840.0000\n",
            "Epoch 29/50\n",
            "76/76 [==============================] - 0s 3ms/step - loss: 2800393984.0000 - val_loss: 2195073280.0000\n",
            "Epoch 30/50\n",
            "76/76 [==============================] - 0s 3ms/step - loss: 2782372352.0000 - val_loss: 2181475328.0000\n",
            "Epoch 31/50\n",
            "76/76 [==============================] - 0s 3ms/step - loss: 2763660032.0000 - val_loss: 2170406144.0000\n",
            "Epoch 32/50\n",
            "76/76 [==============================] - 0s 3ms/step - loss: 2747597568.0000 - val_loss: 2156021248.0000\n",
            "Epoch 33/50\n",
            "76/76 [==============================] - 0s 3ms/step - loss: 2731707136.0000 - val_loss: 2143173760.0000\n",
            "Epoch 34/50\n",
            "76/76 [==============================] - 0s 3ms/step - loss: 2716155904.0000 - val_loss: 2134608000.0000\n",
            "Epoch 35/50\n",
            "76/76 [==============================] - 0s 3ms/step - loss: 2701658368.0000 - val_loss: 2120896512.0000\n",
            "Epoch 36/50\n",
            "76/76 [==============================] - 0s 3ms/step - loss: 2687858432.0000 - val_loss: 2111110144.0000\n",
            "Epoch 37/50\n",
            "76/76 [==============================] - 0s 3ms/step - loss: 2673888256.0000 - val_loss: 2101723392.0000\n",
            "Epoch 38/50\n",
            "76/76 [==============================] - 0s 3ms/step - loss: 2660366336.0000 - val_loss: 2093195008.0000\n",
            "Epoch 39/50\n",
            "76/76 [==============================] - 0s 5ms/step - loss: 2647802880.0000 - val_loss: 2085768576.0000\n",
            "Epoch 40/50\n",
            "76/76 [==============================] - 0s 4ms/step - loss: 2635051520.0000 - val_loss: 2077168000.0000\n",
            "Epoch 41/50\n",
            "76/76 [==============================] - 0s 3ms/step - loss: 2623380992.0000 - val_loss: 2070245760.0000\n",
            "Epoch 42/50\n",
            "76/76 [==============================] - 0s 4ms/step - loss: 2611992064.0000 - val_loss: 2063858816.0000\n",
            "Epoch 43/50\n",
            "76/76 [==============================] - 0s 4ms/step - loss: 2601815808.0000 - val_loss: 2054063360.0000\n",
            "Epoch 44/50\n",
            "76/76 [==============================] - 0s 4ms/step - loss: 2590259456.0000 - val_loss: 2049747072.0000\n",
            "Epoch 45/50\n",
            "76/76 [==============================] - 0s 4ms/step - loss: 2580423936.0000 - val_loss: 2043071872.0000\n",
            "Epoch 46/50\n",
            "76/76 [==============================] - 0s 5ms/step - loss: 2571258880.0000 - val_loss: 2038124288.0000\n",
            "Epoch 47/50\n",
            "76/76 [==============================] - 0s 5ms/step - loss: 2560669952.0000 - val_loss: 2032022784.0000\n",
            "Epoch 48/50\n",
            "76/76 [==============================] - 0s 5ms/step - loss: 2552001024.0000 - val_loss: 2026871296.0000\n",
            "Epoch 49/50\n",
            "76/76 [==============================] - 0s 4ms/step - loss: 2544338688.0000 - val_loss: 2023615872.0000\n",
            "Epoch 50/50\n",
            "76/76 [==============================] - 0s 3ms/step - loss: 2534838528.0000 - val_loss: 2017652352.0000\n"
          ]
        },
        {
          "output_type": "execute_result",
          "data": {
            "text/plain": [
              "<keras.src.callbacks.History at 0x7ae8a0b3a800>"
            ]
          },
          "metadata": {},
          "execution_count": 58
        }
      ]
    },
    {
      "cell_type": "markdown",
      "source": [
        "# Model Evaluation"
      ],
      "metadata": {
        "id": "LpkIq6MCjqkF"
      }
    },
    {
      "cell_type": "code",
      "source": [
        "y_pred_rf = rf_reg.predict(X_test)\n",
        "y_pred_fnn = fnn_reg.predict(X_test)"
      ],
      "metadata": {
        "colab": {
          "base_uri": "https://localhost:8080/"
        },
        "id": "jbE28Q2Sjvq1",
        "outputId": "da7fb69b-1501-48d1-c05f-16569c697f5c"
      },
      "execution_count": null,
      "outputs": [
        {
          "output_type": "stream",
          "name": "stdout",
          "text": [
            "24/24 [==============================] - 0s 2ms/step\n"
          ]
        }
      ]
    },
    {
      "cell_type": "code",
      "source": [
        "from sklearn.metrics import mean_absolute_error, mean_squared_error\n",
        "\n",
        "mae_rf = mean_absolute_error(y_test, y_pred_rf)\n",
        "mae_fnn = mean_absolute_error(y_test, y_pred_fnn)\n",
        "\n",
        "mse_rf = mean_squared_error(y_test, y_pred_rf)\n",
        "mse_fnn = mean_squared_error(y_test, y_pred_fnn)\n",
        "\n",
        "print('Mean Absolute Error:')\n",
        "print('Random Forest:', mae_rf)\n",
        "print('Feedforward Neural Network:', mae_fnn)\n",
        "print('-*'*24 + '-')\n",
        "print('Mean Squared Error:')\n",
        "print('Random Forest:', mse_rf)\n",
        "print('Feedforward Neural Network:', mse_fnn)"
      ],
      "metadata": {
        "colab": {
          "base_uri": "https://localhost:8080/"
        },
        "id": "bgPklpDSnBmI",
        "outputId": "ec410060-0ec1-4887-cca7-9518f60c2554"
      },
      "execution_count": null,
      "outputs": [
        {
          "output_type": "stream",
          "name": "stdout",
          "text": [
            "Mean Absolute Error:\n",
            "Random Forest: 36031.19638452643\n",
            "Feedforward Neural Network: 35032.87331960299\n",
            "-*-*-*-*-*-*-*-*-*-*-*-*-*-*-*-*-*-*-*-*-*-*-*-*-\n",
            "Mean Squared Error:\n",
            "Random Forest: 2616638992.1188564\n",
            "Feedforward Neural Network: 2546672447.1855397\n"
          ]
        }
      ]
    },
    {
      "cell_type": "markdown",
      "source": [
        "# Model Selection\n",
        "\n",
        "Feedforward Neural Network model has better performance than Random Forest model so it should be selected."
      ],
      "metadata": {
        "id": "FCwILDs9jvzl"
      }
    },
    {
      "cell_type": "markdown",
      "source": [
        "# Final Result\n",
        "\n",
        "From information such as experience level, job type, role, country, company size, etc. we can predict salary quite accurately. But it should only be viewed as a reference salary."
      ],
      "metadata": {
        "id": "JumnU0aZrXWZ"
      }
    }
  ]
}